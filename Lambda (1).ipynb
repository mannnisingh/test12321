{
  "nbformat": 4,
  "nbformat_minor": 0,
  "metadata": {
    "colab": {
      "provenance": []
    },
    "kernelspec": {
      "name": "python3",
      "display_name": "Python 3"
    },
    "language_info": {
      "name": "python"
    }
  },
  "cells": [
    {
      "cell_type": "markdown",
      "source": [
        "1. What is a lambda function in Python, and how does it differ from a regular function?\n",
        "\n",
        "Ans."
      ],
      "metadata": {
        "id": "clsXzv6LtWPV"
      }
    },
    {
      "cell_type": "markdown",
      "source": [
        "A lambda function is a small anonymous function defined using the `lambda` keyword. It is also known as a lambda expression. Lambda functions are often used for short-term operations where a full function definition is not necessary. The general syntax of a lambda function is:\n",
        "\n",
        "```python\n",
        "lambda arguments: expression\n",
        "```\n",
        "\n",
        "Here's a simple example:\n",
        "\n",
        "```python\n",
        "add = lambda x, y: x + y\n",
        "print(add(3, 5))  # Output: 8\n",
        "```\n",
        "\n",
        "In this example, the lambda function takes two arguments (`x` and `y`) and returns their sum.\n",
        "\n",
        "Here are some key differences between lambda functions and regular functions (defined using the `def` keyword):\n",
        "\n",
        "1. **Anonymous vs Named:**\n",
        "   - Lambda functions are anonymous, meaning they are not named. They are typically used for short operations and are not meant for reuse across multiple parts of a program.\n",
        "   - Regular functions are named and can be defined using the `def` keyword. They are generally used for more complex operations and can be reused at different parts of a program.\n",
        "\n",
        "2. **Syntax:**\n",
        "   - Lambda functions have a more concise syntax and can only consist of a single expression.\n",
        "   - Regular functions have a more elaborate syntax and can contain multiple expressions, statements, and even documentation (docstrings).\n",
        "\n",
        "3. **Scope of Variables:**\n",
        "   - Lambda functions can only reference variables in their own scope and the global scope. They cannot modify variables from the enclosing scope.\n",
        "   - Regular functions can access variables from their own scope, the global scope, and any enclosing scopes. They can also modify variables from these scopes using the `global` and `nonlocal` keywords.\n",
        "\n",
        "4. **Return Statement:**\n",
        "   - Lambda functions implicitly return the result of the expression.\n",
        "   - Regular functions use the `return` statement to explicitly return a value. They can have multiple `return` statements.\n",
        "\n",
        "In general, lambda functions are suitable for simple, one-time operations, while regular functions are more appropriate for larger, reusable pieces of code. The choice between them depends on the specific requirements of a given task."
      ],
      "metadata": {
        "id": "bKe1a3ecsm0m"
      }
    },
    {
      "cell_type": "markdown",
      "source": [
        "2  Can a lambda function in Python have multiple arguments? If yes, how can you define and use\n",
        "them?\n",
        "\n",
        "Ans."
      ],
      "metadata": {
        "id": "xFBU11SptS_N"
      }
    },
    {
      "cell_type": "markdown",
      "source": [
        "Yes, a lambda function in Python can have multiple arguments. The syntax for a lambda function with multiple arguments is similar to that of a regular function. Here's the general syntax:\n",
        "\n",
        "```python\n",
        "lambda argument1, argument2, ..., argumentN: expression\n",
        "```\n",
        "\n",
        "Here's an example of a lambda function with two arguments:\n",
        "\n",
        "```python\n",
        "multiply = lambda x, y: x * y\n",
        "print(multiply(3, 5))  # Output: 15\n",
        "```\n",
        "\n",
        "In this example, the lambda function takes two arguments, `x` and `y`, and returns their product.\n",
        "\n",
        "You can extend this pattern to include as many arguments as needed. Here's an example with three arguments:\n",
        "\n",
        "```python\n",
        "add_three_numbers = lambda x, y, z: x + y + z\n",
        "print(add_three_numbers(2, 4, 6))  # Output: 12\n",
        "```\n",
        "\n",
        "Lambda functions are particularly useful in situations where you need a quick, one-time function and don't want to go through the process of defining a full function using the `def` keyword. However, for more complex or reusable functions, using `def` to define a regular function might be more appropriate."
      ],
      "metadata": {
        "id": "1s0NHdBFs_Mu"
      }
    },
    {
      "cell_type": "markdown",
      "source": [
        "3.How are lambda functions typically used in Python? Provide an example use case\n",
        "\n",
        "Ans."
      ],
      "metadata": {
        "id": "2aSkAXTZtaVK"
      }
    },
    {
      "cell_type": "markdown",
      "source": [
        "Lambda functions in Python are often used in situations where a small, anonymous function is needed for a short duration and where the creation of a full function using `def` would be overly verbose. Lambda functions are commonly employed in functional programming constructs, such as `map`, `filter`, and `sorted`. They are also used in situations where a function is required as an argument to another function.\n",
        "\n",
        "an example use case where a lambda function is used with the `sorted` function:\n",
        "\n",
        "```python\n",
        "students = [(\"Alice\", 85), (\"Bob\", 92), (\"Charlie\", 78), (\"David\", 95)]\n",
        "\n",
        "sorted_students = sorted(students, key=lambda student: student[1], reverse=True)\n",
        "\n",
        "# Display the sorted list\n",
        "print(sorted_students)\n",
        "```\n",
        "\n",
        " example, the `sorted` function is used to sort the list of students based on their scores (the second element in each tuple). The `key` parameter is set to a lambda function that extracts the score from each tuple. The `reverse=True` parameter is used to sort the list in descending order.\n",
        "\n",
        "Lambda functions are also commonly used with functions like `map` and `filter`. Here's an example using `map` to square each element in a list:\n",
        "\n",
        "```python\n",
        "numbers = [1, 2, 3, 4, 5]\n",
        "\n",
        "\n",
        "squared_numbers = list(map(lambda x: x**2, numbers))\n",
        "\n",
        "print(squared_numbers)\n",
        "```\n",
        "\n",
        "this lambda function is applied to each element in the `numbers` list using `map`, resulting in a new list of squared numbers.\n",
        "\n",
        "While lambda functions are powerful and concise for certain use cases, it's essential to consider readability and code maintainability. For more complex or frequently used functions, defining a regular function using `def` may be more appropriate."
      ],
      "metadata": {
        "id": "9I9qNYQOtdD6"
      }
    },
    {
      "cell_type": "markdown",
      "source": [
        "4. What are the advantages and limitations of lambda functions compared to regular functions in\n",
        "Python?\n",
        "\n",
        "Ans."
      ],
      "metadata": {
        "id": "bm-MSXQ-tyct"
      }
    },
    {
      "cell_type": "markdown",
      "source": [
        "Lambda functions in Python have their advantages and limitations compared to regular functions defined using the `def` keyword. Here are some of the key points:\n",
        "\n",
        "### Advantages of Lambda Functions:\n",
        "\n",
        "1. **Conciseness:**\n",
        "   - Lambda functions are more concise than regular functions. They allow you to write short, one-line functions without the need for a full function definition.\n",
        "\n",
        "2. **Readability in Certain Contexts:**\n",
        "   - Lambda functions can enhance readability in situations where a short, simple function is used as an argument to higher-order functions (e.g., `map`, `filter`, `sorted`).\n",
        "\n",
        "3. **No Need for Function Name:**\n",
        "   - Lambda functions are anonymous, so there's no need to come up with a function name, making them suitable for short-lived and one-time use cases.\n",
        "\n",
        "4. **Functional Programming:**\n",
        "   - Lambda functions are often used in functional programming constructs where functions are treated as first-class citizens.\n",
        "\n",
        "### Limitations of Lambda Functions:\n",
        "\n",
        "1. **Limited Expressiveness:**\n",
        "   - Lambda functions are limited to a single expression. They cannot contain statements or multiple expressions, making them unsuitable for more complex logic.\n",
        "\n",
        "2. **Readability in Complex Cases:**\n",
        "   - For longer or more complex functions, lambda expressions can reduce code readability. In such cases, using `def` to define a regular function with a meaningful name and a clear structure is often preferred.\n",
        "\n",
        "3. **No Documentation Strings:**\n",
        "   - Lambda functions cannot have documentation strings (docstrings), which are useful for documenting the purpose and usage of a function.\n",
        "\n",
        "4. **Limited Scope of Variables:**\n",
        "   - Lambda functions have a more restrictive scope. They can only reference variables in their own scope and the global scope. They cannot modify variables from the enclosing scope without using workarounds.\n",
        "\n",
        "5. **Less Discoverability:**\n",
        "   - Since lambda functions are anonymous, it might be harder for other developers (or even yourself) to understand their purpose without carefully reading the code.\n",
        "\n",
        " lambda functions are a concise and useful tool for specific situations, particularly when working with higher-order functions and simple, short-lived operations. However, for more complex or frequently used functions, regular functions defined with `def` are generally preferred for their readability, expressiveness, and the ability to include documentation. The choice between lambda functions and regular functions depends on the specific requirements and context of the code."
      ],
      "metadata": {
        "id": "yNYoI28It0sk"
      }
    },
    {
      "cell_type": "markdown",
      "source": [
        "5. Are lambda functions in Python able to access variables defined outside of their own scope?\n",
        "Explain with an example.\n",
        "\n",
        "Ans.\n"
      ],
      "metadata": {
        "id": "tyGhQc7ZuZRN"
      }
    },
    {
      "cell_type": "markdown",
      "source": [
        "Yes, lambda functions in Python can access variables defined outside of their own scope, but with some limitations. Lambda functions can access variables from their own scope, the global scope, and any enclosing scopes. However, they cannot modify variables from the enclosing scope directly unless those variables are declared as `global` or `nonlocal`.\n",
        "\n",
        "Here's an example to illustrate:\n",
        "\n",
        "```python\n",
        "# Global variable\n",
        "global_variable = 10\n",
        "\n",
        "def outer_function():\n",
        "    outer_variable = 5\n",
        "\n",
        "    # Lambda function accessing variables from its own scope and the global scope\n",
        "    lambda_func = lambda x: x + outer_variable + global_variable\n",
        "\n",
        "    return lambda_func\n",
        "\n",
        "# Create a lambda function by calling the outer function\n",
        "my_lambda = outer_function()\n",
        "\n",
        "# Use the lambda function\n",
        "result = my_lambda(3)\n",
        "\n",
        "# Display the result\n",
        "print(result)  # Output: 18 (3 + 5 + 10)\n",
        "```\n",
        "\n",
        "In this example, the lambda function `lambda_func` takes one argument `x` and accesses the `outer_variable` from its own scope and the `global_variable` from the global scope. When the lambda function is called with the argument `3`, it returns the sum of `x`, `outer_variable`, and `global_variable`.\n",
        "\n",
        "Now, let's modify the example to attempt to modify the `outer_variable` from within the lambda function:\n",
        "\n",
        "```python\n",
        "global_variable = 10\n",
        "\n",
        "def outer_function():\n",
        "    outer_variable = 5\n",
        "\n",
        "    # Lambda function attempting to modify a variable from the enclosing scope\n",
        "    lambda_func = lambda x: outer_variable + x\n",
        "    # Uncomment the line below to see an error\n",
        "    # outer_variable += 1\n",
        "\n",
        "    return lambda_func\n",
        "\n",
        "my_lambda = outer_function()\n",
        "\n",
        "# Use the lambda function\n",
        "result = my_lambda(3)\n",
        "\n",
        "print(result)\n",
        "```\n",
        "\n",
        "If you uncomment the line `# outer_variable += 1`, you will encounter an error. Lambda functions can't modify variables from enclosing scopes directly, so attempting to modify `outer_variable` in this way will result in an `UnboundLocalError`. To modify variables from enclosing scopes, you would need to use the `nonlocal` keyword inside a regular function instead of a lambda function."
      ],
      "metadata": {
        "id": "DdYU-WAQubGN"
      }
    },
    {
      "cell_type": "markdown",
      "source": [
        "6 Write a lambda function to calculate the square of a given number\n",
        "\n",
        "Ans."
      ],
      "metadata": {
        "id": "q-OpalTiut-D"
      }
    },
    {
      "cell_type": "markdown",
      "source": [
        "create a lambda function to calculate the square of a given number  \n",
        "\n",
        "```python\n",
        "square = lambda x: x**2\n",
        "\n",
        "# Example usage\n",
        "number = 5\n",
        "result = square(number)\n",
        "\n",
        "print(f\"The square of {number} is: {result}\")\n",
        "```\n",
        "\n",
        "In this example, the lambda function `lambda x: x**2` takes a single argument `x` and returns its square. The `result` variable is then assigned the value of the square of the `number` variable, and the result is printed."
      ],
      "metadata": {
        "id": "LOGxOI2Fuv3k"
      }
    },
    {
      "cell_type": "markdown",
      "source": [
        "7.Create a lambda function to find the maximum value in a list of integers.\n",
        "\n",
        "Ans."
      ],
      "metadata": {
        "id": "apzI6V8wvD7a"
      }
    },
    {
      "cell_type": "markdown",
      "source": [
        "Create a lambda function to find the maximum value in a list of integers using the `max` function with a lambda key function\n",
        "\n",
        "```python\n",
        "find_max = lambda lst: max(lst)\n",
        "\n",
        "# Example usage\n",
        "numbers = [3, 8, 1, 6, 4, 9, 2, 7, 5]\n",
        "max_value = find_max(numbers)\n",
        "\n",
        "print(f\"The maximum value in the list is: {max_value}\")\n",
        "```\n",
        "\n",
        " the lambda function `lambda lst: max(lst)` takes a list (`lst`) as an argument and returns the maximum value using the `max` function. The `max_value` variable is then assigned the result of applying this lambda function to the `numbers` list, and the maximum value is printed."
      ],
      "metadata": {
        "id": "20gFDJZxvFjh"
      }
    },
    {
      "cell_type": "markdown",
      "source": [
        "8.Implement a lambda function to filter out all the even numbers from a list of integers.\n",
        "\n",
        "Ans."
      ],
      "metadata": {
        "id": "ZZUrhW7ovhCz"
      }
    },
    {
      "cell_type": "markdown",
      "source": [
        "use the `filter` function along with a lambda function to filter out all the even numbers from a list of integers. Here's an example:\n",
        "\n",
        "```python\n",
        "numbers = [1, 2, 3, 4, 5, 6, 7, 8, 9, 10]\n",
        "\n",
        "\n",
        "filtered_numbers = list(filter(lambda x: x % 2 != 0, numbers))\n",
        "\n",
        "print(\"Original list:\", numbers)\n",
        "print(\"Filtered list (keeping only odd numbers):\", filtered_numbers)\n",
        "```\n",
        "\n",
        " lambda function `lambda x: x % 2 != 0` is used as the filtering criterion. It returns `True` for odd numbers (those where the remainder after division by 2 is not zero) and `False` for even numbers. The `filter` function is then used to filter the list, and `list()` is used to convert the filtered result into a list. Finally, both the original list and the filtered list are printed.\n",
        " output:\n",
        "\n",
        "```\n",
        "Original list: [1, 2, 3, 4, 5, 6, 7, 8, 9, 10]\n",
        "Filtered list (keeping only odd numbers): [1, 3, 5, 7, 9]\n",
        "```"
      ],
      "metadata": {
        "id": "8ApNkV_mvjJr"
      }
    },
    {
      "cell_type": "markdown",
      "source": [
        "9.Write a lambda function to sort a list of strings in ascending order based on the length of each\n",
        "string.\n",
        "\n",
        "Ans.\n"
      ],
      "metadata": {
        "id": "N7gh08dEwKyI"
      }
    },
    {
      "cell_type": "markdown",
      "source": [
        "Use the `sorted` function with a lambda function as the `key` argument to sort a list of strings based on their length in ascending order.\n",
        " example:\n",
        "\n",
        "```python\n",
        "strings = [\"apple\", \"banana\", \"cherry\", \"date\", \"elderberry\"]\n",
        "\n",
        "# Use a lambda function with sorted to sort strings based on their length\n",
        "sorted_strings = sorted(strings, key=lambda x: len(x))\n",
        "\n",
        "print(\"Original list:\", strings)\n",
        "print(\"Sorted list (ascending order based on length):\", sorted_strings)\n",
        "```\n",
        "\n",
        " the lambda function `lambda x: len(x)` is used as the key function for sorting. It returns the length of each string, and the `sorted` function uses these lengths to sort the strings. Finally, both the original list and the sorted list are printed.\n",
        "\n",
        "output:\n",
        "\n",
        "```\n",
        "Original list: ['apple', 'banana', 'cherry', 'date', 'elderberry']\n",
        "Sorted list (ascending order based on length): ['date', 'apple', 'banana', 'cherry', 'elderberry']\n",
        "```"
      ],
      "metadata": {
        "id": "6cNKjne-wNNQ"
      }
    },
    {
      "cell_type": "markdown",
      "source": [
        "10.Create a lambda function that takes two lists as input and returns a new list containing the\n",
        "common elements between the two lists.\n",
        "\n",
        "Ans."
      ],
      "metadata": {
        "id": "VfAM7nE2wm7h"
      }
    },
    {
      "cell_type": "markdown",
      "source": [
        "Use a lambda function with the `filter` function to create a lambda function that takes two lists as input and returns a new list containing the common elements between them. Here's an example:\n",
        "\n",
        "```python\n",
        "# Two example lists\n",
        "list1 = [1, 2, 3, 4, 5]\n",
        "list2 = [3, 4, 5, 6, 7]\n",
        "\n",
        "common_elements = lambda lst1, lst2: list(filter(lambda x: x in lst1, lst2))\n",
        "\n",
        "result = common_elements(list1, list2)\n",
        "\n",
        "print(\"List 1:\", list1)\n",
        "print(\"List 2:\", list2)\n",
        "print(\"Common elements:\", result)\n",
        "```\n",
        "\n",
        "output:\n",
        "\n",
        "```\n",
        "List 1: [1, 2, 3, 4, 5]\n",
        "List 2: [3, 4, 5, 6, 7]\n",
        "Common elements: [3, 4, 5]\n",
        "```"
      ],
      "metadata": {
        "id": "kW8h8GKqwpno"
      }
    },
    {
      "cell_type": "markdown",
      "source": [
        "11. Write a recursive function to calculate the factorial of a given positive integer\n",
        "\n",
        "Ans."
      ],
      "metadata": {
        "id": "-DdfOQCxxE14"
      }
    },
    {
      "cell_type": "markdown",
      "source": [
        "Factorial of a non-negative integer `n` is the product of all positive integers less than or equal to `n`. Here's an example of a recursive function in Python to calculate the factorial of a given positive integer:\n",
        "\n",
        "```python\n",
        "def factorial(n):\n",
        "   \n",
        "    if n == 0:\n",
        "        return 1\n",
        "   \n",
        "    else:\n",
        "        return n * factorial(n - 1)\n",
        "\n",
        "# Example usage\n",
        "number = 5\n",
        "result = factorial(number)\n",
        "\n",
        "print(f\"The factorial of {number} is: {result}\")\n",
        "```\n",
        "\n",
        "In this recursive function, the base case is when `n` is equal to 0, in which case the factorial is 1. For any other positive integer `n`, the function recursively calls itself with the argument `(n - 1)` until it reaches the base case.\n",
        "\n",
        "example usage calculates the factorial of 5, and the result is printed:\n",
        "\n",
        "```\n",
        "The factorial of 5 is: 120\n",
        "```"
      ],
      "metadata": {
        "id": "Op9m0Hk4xG45"
      }
    },
    {
      "cell_type": "markdown",
      "source": [
        "12. Implement a recursive function to compute the nth Fibonacci number.\n",
        "\n",
        "Ans"
      ],
      "metadata": {
        "id": "SP1Xt_B6xhuX"
      }
    },
    {
      "cell_type": "markdown",
      "source": [
        "Fibonacci sequence is a series of numbers where each number is the sum of the two preceding ones. The sequence starts with 0 and 1. Here's an example of a recursive function in Python to compute the nth Fibonacci number:\n",
        "\n",
        "```python\n",
        "def fibonacci(n):\n",
        "\n",
        "    if n == 0:\n",
        "        return 0\n",
        "    elif n == 1:\n",
        "        return 1\n",
        "    \n",
        "    else:\n",
        "        return fibonacci(n - 1) + fibonacci(n - 2)\n",
        "\n",
        "# Example\n",
        "n = 6\n",
        "result = fibonacci(n)\n",
        "\n",
        "print(f\"The {n}th Fibonacci number is: {result}\")\n",
        "```\n",
        "\n",
        "recursive function, the base cases are when `n` is 0 or 1, in which case the function returns 0 or 1, respectively. For any other positive integer `n`, the function recursively calls itself with the arguments `(n - 1)` and `(n - 2)` until it reaches the base cases.\n",
        "\n",
        "example usage calculates the 6th Fibonacci number, and the result is printed:\n",
        "\n",
        "```\n",
        "The 6th Fibonacci number is: 8\n",
        "```"
      ],
      "metadata": {
        "id": "_eKmSGHixkT2"
      }
    },
    {
      "cell_type": "markdown",
      "source": [
        "Ans13.\n",
        " Create a recursive function to find the sum of all the elements in a given list\n",
        "\n"
      ],
      "metadata": {
        "id": "-Q2ThU-Rx3ft"
      }
    },
    {
      "cell_type": "markdown",
      "source": [
        "Create a recursive function to find the sum of all elements in a given list. Here's an example in Python\n",
        "\n",
        "```python\n",
        "def recursive_sum(lst):\n",
        "  \n",
        "    if not lst:\n",
        "        return 0\n",
        "    else:\n",
        "        return lst[0] + recursive_sum(lst[1:])\n",
        "\n",
        "# Example usage\n",
        "my_list = [1, 2, 3, 4, 5]\n",
        "result = recursive_sum(my_list)\n",
        "\n",
        "print(f\"The sum of elements in the list is: {result}\")\n",
        "```\n",
        "\n",
        "recursive function, the base case is when the list is empty (`not lst`). In this case, the sum is 0. For a non-empty list, the function returns the sum of the first element (`lst[0]`) and the sum of the rest of the elements (`recursive_sum(lst[1:])`), calculated by making a recursive call.\n",
        "\n",
        "example usage calculates the sum of elements in the list `[1, 2, 3, 4, 5]`, and the result is printed:\n",
        "\n",
        "```\n",
        "The sum of elements in the list is: 15\n",
        "```"
      ],
      "metadata": {
        "id": "He6GTFobx6f4"
      }
    },
    {
      "cell_type": "markdown",
      "source": [
        "14. Write a recursive function to determine whether a given string is a palindrome.\n",
        "\n",
        "Ans\n"
      ],
      "metadata": {
        "id": "AGMr4pPSyZlv"
      }
    },
    {
      "cell_type": "markdown",
      "source": [
        "Palindrome is a word, phrase, number, or other sequences of characters that reads the same forward and backward. Here's an example of a recursive function in Python to determine whether a given string is a palindrome\n",
        "\n",
        "```python\n",
        "def is_palindrome(s):\n",
        "    if len(s) <= 1:\n",
        "        return True\n",
        "    else:\n",
        "        return s[0] == s[-1] and is_palindrome(s[1:-1])\n",
        "\n",
        "# Example usage\n",
        "word1 = \"radar\"\n",
        "word2 = \"python\"\n",
        "\n",
        "print(f\"Is '{word1}' a palindrome? {is_palindrome(word1)}\")\n",
        "print(f\"Is '{word2}' a palindrome? {is_palindrome(word2)}\")\n",
        "```\n",
        "\n",
        "recursive function, the base case is when the length of the string is 0 or 1, in which case the function returns `True` since an empty string or a string with one character is considered a palindrome. For longer strings, the function checks whether the first and last characters are equal (`s[0] == s[-1]`) and then makes a recursive call on the substring excluding the first and last characters (`is_palindrome(s[1:-1])`).\n",
        "\n",
        "example usage checks whether the strings \"radar\" and \"python\" are palindromes, and the results are printed:\n",
        "\n",
        "```\n",
        "Is 'radar' a palindrome? True\n",
        "Is 'python' a palindrome? False\n",
        "```"
      ],
      "metadata": {
        "id": "4N9XWLaoyeWo"
      }
    },
    {
      "cell_type": "markdown",
      "source": [
        "15  Implement a recursive function to find the greatest common divisor (GCD) of two positive integers.\n",
        "\n",
        "Ans."
      ],
      "metadata": {
        "id": "XBNhcWPzy-nl"
      }
    },
    {
      "cell_type": "markdown",
      "source": [
        "The greatest common divisor (GCD) of two positive integers is the largest positive integer that divides both numbers without leaving a remainder. Here's an example of a recursive function in Python to find the GCD of two positive integers:\n",
        "\n",
        "```python\n",
        "def gcd(a, b):\n",
        "   \n",
        "    if b == 0:\n",
        "        return a\n",
        "    \n",
        "    else:\n",
        "        return gcd(b, a % b)\n",
        "\n",
        "# Example usage\n",
        "num1 = 48\n",
        "num2 = 18\n",
        "\n",
        "result = gcd(num1, num2)\n",
        "\n",
        "print(f\"The GCD of {num1} and {num2} is: {result}\")\n",
        "```\n",
        "\n",
        "recursive function, the base case is when the second number (`b`) becomes 0. In this case, the GCD is the first number (`a`). For any other pair of positive integers `(a, b)`, the function returns the GCD of `(b, a % b)`, which is calculated by making a recursive call.\n",
        "\n",
        "example usage calculates the GCD of 48 and 18, and the result is printed:\n",
        "\n",
        "```\n",
        "The GCD of 48 and 18 is: 6\n",
        "```"
      ],
      "metadata": {
        "id": "TviZKBOjzAzu"
      }
    }
  ]
}