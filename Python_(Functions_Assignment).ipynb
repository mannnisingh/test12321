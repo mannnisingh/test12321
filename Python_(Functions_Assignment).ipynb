{
  "nbformat": 4,
  "nbformat_minor": 0,
  "metadata": {
    "colab": {
      "provenance": []
    },
    "kernelspec": {
      "name": "python3",
      "display_name": "Python 3"
    },
    "language_info": {
      "name": "python"
    }
  },
  "cells": [
    {
      "cell_type": "markdown",
      "source": [
        "1.. In Python, what is the difference between a built-in function and a user-defined function? Provide an\n",
        "example of each.\n",
        "\n",
        "Ans."
      ],
      "metadata": {
        "id": "M-6qiTM4-n-R"
      }
    },
    {
      "cell_type": "markdown",
      "source": [
        "In Python, the main difference between a built-in function and a user-defined function lies in their origin and implementation:\n",
        "\n",
        "1. **Built-in Function:**\n",
        "   - Built-in functions are functions that are already defined in the Python programming language. They are part of the Python standard library and are readily available for use without requiring additional definitions.\n",
        "   - Examples of built-in functions include `len()`, `print()`, `sum()`, `max()`, `min()`, and many others.\n",
        "\n",
        "   Here's an example using the built-in function `len()`:\n",
        "\n",
        "   ```python\n",
        "   my_list = [1, 2, 3, 4, 5]\n",
        "   length = len(my_list)\n",
        "   print(f\"The length of the list is: {length}\")\n",
        "   ```\n",
        "\n",
        "2. **User-Defined Function:**\n",
        "   - User-defined functions are functions created by the user or programmer. They are defined using the `def` keyword followed by a function name, parameters, a colon, and a block of code.\n",
        "   - Users can define their own functions to encapsulate a specific set of operations, promote code reusability, and improve code organization.\n",
        "\n",
        "   Here's an example of a user-defined function:\n",
        "\n",
        "   ```python\n",
        "   def add_numbers(a, b):\n",
        "       return a + b\n",
        "\n",
        "   result = add_numbers(3, 5)\n",
        "   print(f\"The sum is: {result}\")\n",
        "   ```\n",
        "\n",
        "    this example, the `add_numbers` function takes two parameters (`a` and `b`) and returns their sum. The function is then called with arguments 3 and 5, and the result is printed.\n",
        "\n",
        "In summary, built-in functions are provided by Python itself, and users can readily use them without defining their functionality. User-defined functions, on the other hand, are created by users to meet specific requirements and encapsulate reusable pieces of code."
      ],
      "metadata": {
        "id": "e9T9Rc1H-vZ3"
      }
    },
    {
      "cell_type": "markdown",
      "source": [
        "2.How can you pass arguments to a function in Python? Explain the difference between positional\n",
        "arguments and keyword arguments.\n",
        "\n",
        "Ans."
      ],
      "metadata": {
        "id": "AmAguCkk_G59"
      }
    },
    {
      "cell_type": "markdown",
      "source": [
        "You can pass arguments to a function in two main ways: using positional arguments and using keyword arguments.\n",
        "\n",
        "1. **Positional Arguments:**\n",
        "   - Positional arguments are passed to a function based on their position or order in the function call.\n",
        "   - The values you pass are assigned to the parameters in the same order as they appear in the function definition.\n",
        "\n",
        "   Example:\n",
        "\n",
        "   ```python\n",
        "   def add(a, b):\n",
        "       return a + b\n",
        "\n",
        "   result = add(3, 5)\n",
        "   print(f\"The sum is: {result}\")\n",
        "   ```\n",
        "\n",
        "    example, `3` is assigned to the parameter `a`, and `5` is assigned to the parameter `b` based on their positions in the function call.\n",
        "\n",
        "2. **Keyword Arguments:**\n",
        "   - Keyword arguments are passed to a function by explicitly specifying the parameter names along with their values.\n",
        "   - This allows you to pass arguments in a different order than they appear in the function definition.\n",
        "\n",
        "   Example:\n",
        "\n",
        "   ```python\n",
        "   def subtract(x, y):\n",
        "       return x - y\n",
        "\n",
        "   result = subtract(y=3, x=7)\n",
        "   print(f\"The result is: {result}\")\n",
        "   ```\n",
        "\n",
        "    example, the values `7` and `3` are assigned to the parameters `x` and `y` based on their names in the function call.\n",
        "\n",
        "3. **Combining Positional and Keyword Arguments:**\n",
        "   - You can also combine positional and keyword arguments in a function call. However, positional arguments must come before keyword arguments.\n",
        "\n",
        "   Example:\n",
        "\n",
        "   ```python\n",
        "   def multiply(a, b, c):\n",
        "       return a * b * c\n",
        "\n",
        "   result = multiply(2, c=4, b=3)\n",
        "   print(f\"The result is: {result}\")\n",
        "   ```\n",
        "\n",
        "    example, `2` is assigned to the parameter `a` as a positional argument, while `3` and `4` are assigned to `b` and `c` as keyword arguments.\n",
        "\n",
        "It's important to note that when defining a function, you can have parameters with default values. Parameters with default values act as optional parameters, and if you don't provide a value for them in the function call, the default value will be used."
      ],
      "metadata": {
        "id": "2W25vrO4_Y0e"
      }
    },
    {
      "cell_type": "markdown",
      "source": [
        "3.What is the purpose of the return statement in a function? Can a function have multiple return\n",
        "statements? Explain with an example.\n",
        "\n",
        "Ans."
      ],
      "metadata": {
        "id": "mBn62_9dAAFe"
      }
    },
    {
      "cell_type": "markdown",
      "source": [
        "The `return` statement in a function is used to specify the value or values that the function should produce as output. When a function is called, and the `return` statement is encountered, the function immediately exits, and the specified value or values are returned to the caller.\n",
        "\n",
        "The purpose of the `return` statement includes:\n",
        "\n",
        "1. **Returning Values:** It allows a function to provide a result or output to the code that called it.\n",
        "\n",
        "2. **Exiting the Function:** It signals the end of the function's execution. Once a `return` statement is encountered, the function terminates, and control is passed back to the calling code.\n",
        "\n",
        "3. **Passing Data Back:** It enables a function to pass data or results back to the calling code.\n",
        "\n",
        "an example to illustrate the use of the `return` statement in a function:\n",
        "\n",
        "```python\n",
        "def add_and_multiply(a, b, c):\n",
        "    sum_result = a + b\n",
        "    product_result = sum_result * c\n",
        "    return sum_result, product_result\n",
        "\n",
        "# Example usage\n",
        "result_tuple = add_and_multiply(2, 3, 4)\n",
        "\n",
        "print(f\"The sum is: {result_tuple[0]}\")\n",
        "print(f\"The product is: {result_tuple[1]}\")\n",
        "```\n",
        "\n",
        "this example, the function `add_and_multiply` takes three parameters (`a`, `b`, and `c`), calculates the sum of `a` and `b`, multiplies the result by `c`, and then returns a tuple containing both the sum and the product. The function is called with arguments `2`, `3`, and `4`, and the returned tuple is unpacked and printed.\n",
        "\n",
        "It's important to note that a function can have multiple `return` statements, but once the first `return` statement is executed, the function exits, and subsequent code in the function is not executed. Multiple `return` statements can be useful in certain cases, such as having conditional returns based on different conditions. However, care should be taken to ensure that all code paths lead to a `return` statement."
      ],
      "metadata": {
        "id": "MS7k92u8AbjE"
      }
    },
    {
      "cell_type": "markdown",
      "source": [
        "4.What are lambda functions in Python? How are they different from regular functions? Provide an\n",
        "example where a lambda function can be useful.\n",
        "\n",
        "Ans."
      ],
      "metadata": {
        "id": "SblD0Sj9Ap4G"
      }
    },
    {
      "cell_type": "markdown",
      "source": [
        "Lambda functions in Python, also known as lambda expressions, are anonymous functions created using the `lambda` keyword. They are typically used for short-term operations where a full function definition is not necessary. Lambda functions are limited to a single expression and have a more concise syntax compared to regular functions.\n",
        "\n",
        "The general syntax of a lambda function is:\n",
        "\n",
        "```python\n",
        "lambda arguments: expression\n",
        "```\n",
        "\n",
        "Here a simple example of a lambda function:\n",
        "\n",
        "```python\n",
        "multiply = lambda x, y: x * y\n",
        "print(multiply(3, 5))  # Output: 15\n",
        "```\n",
        "\n",
        "this example, the lambda function takes two arguments (`x` and `y`) and returns their product.\n",
        "\n",
        "**Differences from Regular Functions:**\n",
        "\n",
        "1. **Anonymous vs Named:**\n",
        "   - Lambda functions are anonymous; they do not have a name. They are often used for short-lived operations and are not meant for reuse across multiple parts of a program.\n",
        "   - Regular functions are named using the `def` keyword, and they can be reused and called from various parts of the program.\n",
        "\n",
        "2. **Syntax:**\n",
        "   - Lambda functions have a more concise syntax and can only consist of a single expression.\n",
        "   - Regular functions have a more elaborate syntax and can contain multiple expressions, statements, and even documentation (docstrings).\n",
        "\n",
        "3. **Scope of Variables:**\n",
        "   - Lambda functions can only reference variables in their own scope and the global scope. They cannot modify variables from the enclosing scope without using workarounds.\n",
        "   - Regular functions can access variables from their own scope, the global scope, and any enclosing scopes. They can also modify variables from these scopes using the `global` and `nonlocal` keywords.\n",
        "\n",
        "**Example Use Case:**\n",
        "\n",
        "Lambda functions are often useful in situations where a quick, one-time function is needed, especially in functional programming constructs like `map`, `filter`, and `sorted`. Here's an example using `sorted`:\n",
        "\n",
        "```python\n",
        "students = [(\"Alice\", 85), (\"Bob\", 92), (\"Charlie\", 78), (\"David\", 95)]\n",
        "\n",
        "sorted_students = sorted(students, key=lambda student: student[1], reverse=True)\n",
        "\n",
        "print(sorted_students)\n",
        "```\n",
        "\n",
        "In example, the `sorted` function is used to sort the list of students based on their scores, and the sorting key is specified using a lambda function. The result is a sorted list of students in descending order of scores. Lambda functions are well-suited for such short-term operations where the creation of a regular function might be considered more verbose."
      ],
      "metadata": {
        "id": "CFmYOEGNAzcU"
      }
    },
    {
      "cell_type": "markdown",
      "source": [
        "5.How does the concept of \"scope\" apply to functions in Python? Explain the difference between local\n",
        "scope and global scope.\n",
        "\n",
        "Ans."
      ],
      "metadata": {
        "id": "0urDzYcaBEBV"
      }
    },
    {
      "cell_type": "markdown",
      "source": [
        "In Python, the concept of \"scope\" refers to the region of a program where a particular variable can be accessed or modified. Python has two main types of scope: local scope and global scope.\n",
        "\n",
        "1. **Local Scope:**\n",
        "   - A local scope is the innermost scope and is associated with a specific function or code block.\n",
        "   - Variables defined within a function are considered local to that function and are only accessible within the function.\n",
        "   - Once the function is executed, the local variables are created, used, and then discarded when the function exits. They do not persist beyond the function's execution.\n",
        "\n",
        "   Example:\n",
        "\n",
        "   ```python\n",
        "   def example_function():\n",
        "       local_variable = 10\n",
        "       print(local_variable)\n",
        "\n",
        "   example_function()\n",
        "\n",
        "   ```\n",
        "\n",
        "   In this example, `local_variable` is defined within the `example_function`, making it a local variable. Attempting to print `local_variable` outside the function will result in an error because it is not accessible outside its local scope.\n",
        "\n",
        "2. **Global Scope:**\n",
        "   - The global scope is the outermost scope and is not associated with any specific function or code block.\n",
        "   - Variables defined outside of any function or code block are considered global and can be accessed and modified from anywhere in the program.\n",
        "   - Global variables persist throughout the entire program's execution.\n",
        "\n",
        "   Example:\n",
        "\n",
        "   ```python\n",
        "   global_variable = 20\n",
        "\n",
        "   def another_function():\n",
        "       print(global_variable)\n",
        "\n",
        "   another_function()\n",
        "   print(global_variable)\n",
        "   ```\n",
        "\n",
        "   In this example, `global_variable` is defined outside of any function, making it a global variable. It can be accessed both inside and outside functions.\n",
        "\n",
        "**Scope Hierarchy:**\n",
        "   - Python follows a hierarchy for variable resolution. When a variable is referenced, Python searches for it in the local scope first. If the variable is not found locally, Python then looks in the enclosing (non-local) scopes, including any global scopes. If the variable is still not found, Python looks in the built-in scope.\n",
        "\n",
        "   Example:\n",
        "\n",
        "   ```python\n",
        "   global_variable = 20\n",
        "\n",
        "   def example_function():\n",
        "       local_variable = 10\n",
        "       print(local_variable + global_variable)\n",
        "\n",
        "   example_function()\n",
        "   ```\n",
        "\n",
        "   In this example, `local_variable` is first looked up in the local scope of `example_function`. Since it's not found there, Python looks in the global scope and finds `global_variable`. The sum of the two variables is then printed.\n",
        "\n",
        "Understanding scope is crucial for avoiding naming conflicts and understanding where variables are accessible in a program. It also plays a role in the concept of variable shadowing, where a local variable with the same name as a global variable can \"shadow\" or hide the global variable within the local scope."
      ],
      "metadata": {
        "id": "CzGsF1HqBPB1"
      }
    },
    {
      "cell_type": "markdown",
      "source": [
        "6.How can you use the \"return\" statement in a Python function to return multiple values?\n",
        "\n",
        "Ans."
      ],
      "metadata": {
        "id": "yXUaw7tiBenE"
      }
    },
    {
      "cell_type": "markdown",
      "source": [
        "In Python, you can use the `return` statement in a function to return multiple values by returning them as part of a tuple, a list, or any other iterable. When a function encounters a `return` statement, it exits immediately, and the specified values are returned to the caller.\n",
        "\n",
        "Here's an example of a function that returns multiple values as a tuple:\n",
        "\n",
        "```python\n",
        "def calculate_stats(numbers):\n",
        "    total = sum(numbers)\n",
        "    average = total / len(numbers)\n",
        "    maximum = max(numbers)\n",
        "    minimum = min(numbers)\n",
        "    \n",
        "    return total, average, maximum, minimum\n",
        "\n",
        "# Example usage\n",
        "data = [10, 15, 7, 22, 18]\n",
        "\n",
        "result = calculate_stats(data)\n",
        "\n",
        "print(f\"Total: {result[0]}\")\n",
        "print(f\"Average: {result[1]}\")\n",
        "print(f\"Maximum: {result[2]}\")\n",
        "print(f\"Minimum: {result[3]}\")\n",
        "```\n",
        "\n",
        "In this example, the `calculate_stats` function takes a list of numbers, performs various calculations (total, average, maximum, and minimum), and returns these values as a tuple. The caller can then unpack the tuple into individual variables or access the values using indexing.\n",
        "\n",
        "Alternatively, you can also use the returned values directly without unpacking them:\n",
        "\n",
        "```python\n",
        "result = calculate_stats(data)\n",
        "\n",
        "print(f\"Total: {result[0]}\")\n",
        "print(f\"Average: {result[1]}\")\n",
        "print(f\"Maximum: {result[2]}\")\n",
        "print(f\"Minimum: {result[3]}\")\n",
        "```\n",
        "\n",
        "If you prefer, you can use tuple unpacking to assign the returned values to separate variables directly:\n",
        "\n",
        "```python\n",
        "total, average, maximum, minimum = calculate_stats(data)\n",
        "\n",
        "print(f\"Total: {total}\")\n",
        "print(f\"Average: {average}\")\n",
        "print(f\"Maximum: {maximum}\")\n",
        "print(f\"Minimum: {minimum}\")\n",
        "```\n",
        "\n",
        "This way, each value is assigned to a separate variable, making the code more readable. The key is to have the `return` statement contain multiple values, and they will be returned as a single tuple."
      ],
      "metadata": {
        "id": "G3yDnkBtBrB7"
      }
    },
    {
      "cell_type": "markdown",
      "source": [
        "7. What is the difference between the \"pass by value\" and \"pass by reference\" concepts when it\n",
        "comes to function arguments in Python?\n",
        "\n",
        "Ans."
      ],
      "metadata": {
        "id": "fzqYE6y7ByjD"
      }
    },
    {
      "cell_type": "markdown",
      "source": [
        "In Python, the concepts of \"pass by value\" and \"pass by reference\" can be a source of confusion because the language itself behaves differently from what these terms might imply based on their usage in other programming languages.\n",
        "\n",
        "In Python, it's more accurate to say that function arguments are passed by object reference. The behavior depends on whether the object being referenced is mutable or immutable.\n",
        "\n",
        "1. **Immutable Objects (Pass by Object Reference, Similar to \"Pass by Value\"):**\n",
        "   - Immutable objects, such as integers, floats, strings, and tuples, cannot be modified in-place.\n",
        "   - When an immutable object is passed to a function, a copy of the reference to that object is passed.\n",
        "   - The function cannot modify the original object; instead, it operates on a local copy of the reference.\n",
        "\n",
        "   Example:\n",
        "\n",
        "   ```python\n",
        "   def modify_immutable(value):\n",
        "       value = 10\n",
        "       print(\"Inside function:\", value)\n",
        "\n",
        "   num = 5\n",
        "   modify_immutable(num)\n",
        "   print(\"Outside function:\", num)\n",
        "   ```\n",
        "\n",
        "   Output:\n",
        "\n",
        "   ```\n",
        "   Inside function: 10\n",
        "   Outside function: 5\n",
        "   ```\n",
        "\n",
        "   In this example, the function receives a copy of the reference to the integer object `5`. When the function modifies the local variable `value`, it does not affect the original variable `num` outside the function.\n",
        "\n",
        "2. **Mutable Objects (Pass by Object Reference, Similar to \"Pass by Reference\"):**\n",
        "   - Mutable objects, such as lists and dictionaries, can be modified in-place.\n",
        "   - When a mutable object is passed to a function, the reference to the object is passed, allowing the function to modify the original object.\n",
        "\n",
        "   Example:\n",
        "\n",
        "   ```python\n",
        "   def modify_mutable(my_list):\n",
        "       my_list.append(4)\n",
        "       print(\"Inside function:\", my_list)\n",
        "\n",
        "   numbers = [1, 2, 3]\n",
        "   modify_mutable(numbers)\n",
        "   print(\"Outside function:\", numbers)\n",
        "   ```\n",
        "\n",
        "   Output:\n",
        "\n",
        "   ```\n",
        "   Inside function: [1, 2, 3, 4]\n",
        "   Outside function: [1, 2, 3, 4]\n",
        "   ```\n",
        "\n",
        "   In this example, the function receives the reference to the list object `[1, 2, 3]`. When the function modifies the list by appending `4`, it affects the original list `numbers` outside the function.\n",
        "\n",
        "In summary, Python uses a mechanism that is closer to \"pass by object reference.\" Whether the impact on the original object is visible outside the function depends on whether the object is mutable or immutable. Immutable objects are more similar to \"pass by value\" behavior, while mutable objects exhibit behavior more akin to \"pass by reference.\""
      ],
      "metadata": {
        "id": "GpCqQmeSB6xi"
      }
    },
    {
      "cell_type": "markdown",
      "source": [
        "8.. Create a function that can intake integer or decimal value and do following operations:\n",
        "\n",
        "a. Logarithmic function (log x)\n",
        "\n",
        "b. Exponential function (exp(x))\n",
        "\n",
        "c. Power function with base 2 (2\n",
        "x\n",
        ")\n",
        "\n",
        "d. Square root\n",
        "\n",
        "Ans."
      ],
      "metadata": {
        "id": "qLaEz1QSCC1L"
      }
    },
    {
      "cell_type": "markdown",
      "source": [
        "We can create a function that performs the specified operations on an input value, considering the input can be an integer or a decimal. Here's an example in Python:\n",
        "\n",
        "```python\n",
        "import math\n",
        "\n",
        "def mathematical_operations(x):\n",
        "    log_result = math.log(x)\n",
        "\n",
        "    exp_result = math.exp(x)\n",
        "\n",
        "    power_result = math.pow(2, x)\n",
        "\n",
        "    # Square root\n",
        "    sqrt_result = math.sqrt(x)\n",
        "\n",
        "    return log_result, exp_result, power_result, sqrt_result\n",
        "\n",
        "result_integer = mathematical_operations(4)\n",
        "print(\"Results for integer (4):\", result_integer)\n",
        "\n",
        "result_decimal = mathematical_operations(2.5)\n",
        "print(\"Results for decimal (2.5):\", result_decimal)\n",
        "```\n",
        "\n",
        "this example, the `mathematical_operations` function takes a parameter `x` and performs the specified operations: logarithmic function (`math.log`), exponential function (`math.exp`), power function with base 2 (`math.pow(2, x)`), and square root (`math.sqrt`). The results are then returned as a tuple.\n",
        "\n",
        "We can call the function with both integer and decimal values and examine the results for each case. Note that for the logarithmic function, the base is assumed to be the natural logarithm (base `e`). If you need a logarithmic function with a different base, you can use the `math.log(x, base)` function and provide the desired base as the second argument."
      ],
      "metadata": {
        "id": "LB_7eii9CTDs"
      }
    },
    {
      "cell_type": "markdown",
      "source": [
        "9.Create a function that takes a full name as an argument and returns first name and last name.\n",
        "\n",
        "Ans."
      ],
      "metadata": {
        "id": "fO-yzsKCCn_z"
      }
    },
    {
      "cell_type": "markdown",
      "source": [
        "We can create a function that takes a full name as an argument, splits it into first name and last name, and then returns these two components. Here's an example in Python:\n",
        "\n",
        "```python\n",
        "def split_full_name(full_name):\n",
        "    name_parts = full_name.split()\n",
        "    if len(name_parts) >= 2:\n",
        "        first_name = name_parts[0]\n",
        "        last_name = ' '.join(name_parts[1:])\n",
        "        return first_name, last_name\n",
        "    else:\n",
        "        return None, None\n",
        "\n",
        "# Example\n",
        "full_name1 = \"John Doe\"\n",
        "result1 = split_full_name(full_name1)\n",
        "print(f\"Full Name: {full_name1}\")\n",
        "print(f\"First Name: {result1[0]}\")\n",
        "print(f\"Last Name: {result1[1]}\")\n",
        "print()\n",
        "\n",
        "full_name2 = \"Alice\"\n",
        "result2 = split_full_name(full_name2)\n",
        "print(f\"Full Name: {full_name2}\")\n",
        "print(f\"First Name: {result2[0]}\")\n",
        "print(f\"Last Name: {result2[1]}\")\n",
        "```\n",
        "\n",
        "this example, the `split_full_name` function uses the `split()` method to break the full name into individual words. It then checks if there are at least two parts (assuming the first part is the first name and the rest is the last name). If the name is not in the expected format, the function returns `None` for both the first name and last name.\n",
        "\n",
        "We can call the function with different full names and examine the results for each case. The example includes cases where the full name is in the expected format and cases where it is not."
      ],
      "metadata": {
        "id": "D_kewdNHCutK"
      }
    }
  ]
}